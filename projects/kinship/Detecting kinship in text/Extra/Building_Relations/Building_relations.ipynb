{
 "cells": [
  {
   "cell_type": "markdown",
   "metadata": {},
   "source": [
    "# Building Characters and Relations\n",
    "This notebook contains all code necessary to convert the ontology from https://www.geni.com/projects/Friends-and-Their-Friends/30024 in the \"family members\" section (not including \"love interests\") into Characters that are readable by Python. This notebook outputs a pickle file \"relations.pkl\" containing all of the Characters with their relations recorded."
   ]
  },
  {
   "cell_type": "markdown",
   "metadata": {},
   "source": [
    "## Relation Dictionaries for each character\n",
    "The section develops Character classes for all the characters.\n",
    "\n",
    "Each character is initialized as an instance of the Character class, and all relations for each character are entered as the character's 'relations' attribute.\n",
    "\n",
    "Relations are stored as dictionaries of relation_type: Characters, where Characters is a list of Characters (with the exception of \"mother\" and \"father\" relationship types which are stored as a single Character).\n",
    "\n",
    "The characters created are stored in a list and pickled into \"relations.pkl\"."
   ]
  },
  {
   "cell_type": "code",
   "execution_count": 1,
   "metadata": {},
   "outputs": [],
   "source": [
    "class Character:\n",
    "    'Class representing named characters'\n",
    "    def __init__(self, firstname, lastname=None, relations=dict()):\n",
    "        self.firstname = firstname\n",
    "        self.lastname = lastname\n",
    "        self.relations = relations\n"
   ]
  },
  {
   "cell_type": "code",
   "execution_count": 2,
   "metadata": {},
   "outputs": [
    {
     "name": "stdout",
     "output_type": "stream",
     "text": [
      "{'firstname': 'ross', 'lastname': 'geller', 'relations': {'sister': <__main__.Character object at 0x000001EB832488D0>}}\n",
      "{'firstname': 'monica', 'lastname': 'geller', 'relations': {'brother': <__main__.Character object at 0x000001EB83248898>}, 'nicknames': ['mon']}\n"
     ]
    }
   ],
   "source": [
    "#testing Character class\n",
    "ross = Character(\"ross\", \"geller\")\n",
    "ross.relations = dict()\n",
    "monica = Character(\"monica\", \"geller\")\n",
    "monica.nicknames = [\"mon\"]\n",
    "ross.relations[\"sister\"] = monica\n",
    "monica.relations = {\"brother\": ross}\n",
    "print(ross.__dict__)\n",
    "print(monica.__dict__)"
   ]
  },
  {
   "cell_type": "code",
   "execution_count": 3,
   "metadata": {},
   "outputs": [],
   "source": [
    "chandler_bing = Character(\"chandler\", \"bing\")\n",
    "joey_tribbiani = Character(\"joey\", \"tribbiani\")\n",
    "phoebe_buffay = Character(\"phoebe\", \"buffay\")\n",
    "rachel_green = Character(\"rachel\", \"green\")\n",
    "ross_geller = Character(\"ross\", \"geller\")\n",
    "monica_geller = Character(\"monica\", \"geller\")"
   ]
  },
  {
   "cell_type": "code",
   "execution_count": 4,
   "metadata": {},
   "outputs": [],
   "source": [
    "nora_bing = Character(\"Mrs. Bing\")\n",
    "charles_bing = Character(\"Mr. Bing\")\n",
    "\n",
    "chandler_bing.relations = {\"father\": charles_bing, \"mother\": nora_bing}\n",
    "nora_bing.relations = {\"sons\":[chandler_bing]}\n",
    "charles_bing.relations = {\"sons\":[chandler_bing]}"
   ]
  },
  {
   "cell_type": "code",
   "execution_count": 5,
   "metadata": {},
   "outputs": [],
   "source": [
    "gloria_tribbiani = Character(\"Mrs. Tribbiani\")\n",
    "joseph_tribbiani = Character(\"Mr. Tribbiani\")\n",
    "therese_tribbiani = Character(\"mary\", \"tribbiani\")\n",
    "therese_tribbiani.middlename = \"therese\"\n",
    "angela_tribbiani = Character(\"mary\", \"tribbiani\")\n",
    "angela_tribbiani.middlename = \"angela\"\n",
    "dina_tribbiani = Character(\"dina\", \"tribbiani\")\n",
    "gina_tribbiani = Character(\"gina\", \"tribbiani\")\n",
    "tina_tribbiani = Character(\"tina\", \"tribbiani\")\n",
    "veronica_tribbiani = Character(\"veronica\", \"tribbiani\")\n",
    "cookie_tribbiani = Character(\"cookie\", \"tribbiani\")\n",
    "\n",
    "joey_tribbiani.relations = {\"sisters\":[therese_tribbiani, angela_tribbiani, dina_tribbiani, gina_tribbiani, tina_tribbiani, \\\n",
    "                            veronica_tribbiani, cookie_tribbiani], \"mother\":gloria_tribbiani, \"father\":joseph_tribbiani}\n",
    "\n",
    "joseph_tribbiani.relations = {\"sons\": [joey_tribbiani], \"daughters\": [therese_tribbiani, angela_tribbiani, dina_tribbiani, \\\n",
    "                                                                        gina_tribbiani, tina_tribbiani, veronica_tribbiani, \\\n",
    "                                                                        cookie_tribbiani]}\n",
    "therese_tribbiani.relations = {\"sisters\":[angela_tribbiani, dina_tribbiani, gina_tribbiani, tina_tribbiani, \\\n",
    "                                          veronica_tribbiani, cookie_tribbiani], \"brothers\":[joey_tribbiani],\\\n",
    "                               \"mother\":gloria_tribbiani, \"father\":joseph_tribbiani}\n",
    "angela_tribbiani.relations = {\"sisters\":[therese_tribbiani, dina_tribbiani, gina_tribbiani, tina_tribbiani, \\\n",
    "                                          veronica_tribbiani, cookie_tribbiani], \"brothers\":[joey_tribbiani],\\\n",
    "                               \"mother\":gloria_tribbiani, \"father\":joseph_tribbiani}\n",
    "dina_tribbiani.relations = {\"sisters\":[angela_tribbiani, therese_tribbiani, gina_tribbiani, tina_tribbiani, \\\n",
    "                                          veronica_tribbiani, cookie_tribbiani], \"brothers\":[joey_tribbiani],\\\n",
    "                               \"mother\":gloria_tribbiani, \"father\":joseph_tribbiani}\n",
    "gina_tribbiani.relations = {\"sisters\":[angela_tribbiani, dina_tribbiani, therese_tribbiani, tina_tribbiani, \\\n",
    "                                          veronica_tribbiani, cookie_tribbiani], \"brothers\":[joey_tribbiani],\\\n",
    "                               \"mother\":gloria_tribbiani, \"father\":joseph_tribbiani}\n",
    "tina_tribbiani.relations = {\"sisters\":[angela_tribbiani, dina_tribbiani, gina_tribbiani, therese_tribbiani, \\\n",
    "                                          veronica_tribbiani, cookie_tribbiani], \"brothers\":[joey_tribbiani],\\\n",
    "                               \"mother\":gloria_tribbiani, \"father\":joseph_tribbiani}\n",
    "veronica_tribbiani.relations = {\"sisters\":[angela_tribbiani, dina_tribbiani, gina_tribbiani, tina_tribbiani, \\\n",
    "                                          therese_tribbiani, cookie_tribbiani], \"brothers\":[joey_tribbiani],\\\n",
    "                               \"mother\":gloria_tribbiani, \"father\":joseph_tribbiani}\n",
    "cookie_tribbiani.relations = {\"sisters\":[angela_tribbiani, dina_tribbiani, gina_tribbiani, tina_tribbiani, \\\n",
    "                                          veronica_tribbiani, therese_tribbiani], \"brothers\":[joey_tribbiani],\\\n",
    "                               \"mother\":gloria_tribbiani, \"father\":joseph_tribbiani}\n",
    "\n"
   ]
  },
  {
   "cell_type": "code",
   "execution_count": 6,
   "metadata": {},
   "outputs": [],
   "source": [
    "phoebe_abbott = Character(\"phoebe\", \"abbott\")\n",
    "ursula_buffay = Character(\"ursula\", \"buffay\")\n",
    "frank_buffay = Character(\"frank\", \"buffay\")\n",
    "frances_buffay = Character(\"frances\")\n",
    "\n",
    "phoebe_buffay.relations = {\"mother\":phoebe_abbott, \"sisters\": [ursula_buffay], \"brothers\": [frank_buffay], \\\n",
    "                           \"grandmothers\": [frances_buffay]}\n",
    "ursula_buffay.relations = {\"mother\":phoebe_abbott, \"sisters\": [phoebe_buffay], \"brothers\": [frank_buffay], \\\n",
    "                           \"grandmothers\": [frances_buffay]}\n",
    "frank_buffay.relations = {\"mother\":phoebe_abbott, \"sisters\": [phoebe_buffay, ursula_buffay], \\\n",
    "                           \"grandmothers\": [frances_buffay]}\n",
    "frances_buffay.relations = {\"granddaughters\": [phoebe_buffay, ursula_buffay], \"grandsons\": [frank_buffay]}"
   ]
  },
  {
   "cell_type": "code",
   "execution_count": 9,
   "metadata": {},
   "outputs": [],
   "source": [
    "sandra_green = Character(\"Mrs. Green\")\n",
    "leonard_green = Character(\"Mr. Green\")\n",
    "emma = Character(\"emma\")\n",
    "amy_green = Character(\"amy\", \"green\")\n",
    "jill_green = Character(\"jill\", \"green\")\n",
    "\n",
    "rachel_green.relations = {\"mother\":sandra_green, \"father\":leonard_green, \"daughters\":[emma], \"sisters\":[amy_green, jill_green]}\n",
    "amy_green.relations = {\"mother\":sandra_green, \"father\":leonard_green, \"neices\":[emma], \"sisters\":[rachel_green, jill_green]}\n",
    "jill_green.relations = {\"mother\":sandra_green, \"father\":leonard_green, \"neices\":[emma], \"sisters\":[amy_green, rachel_green]}\n",
    "sandra_green.relations = {\"granddaughter\":emma, \"daughters\":[amy_green, rachel_green, jill_green]}\n",
    "leonard_green.relations = {\"granddaughter\":emma, \"daughters\":[amy_green, rachel_green, jill_green]}\n",
    "emma.relations = {\"mother\":rachel_green, \"father\":ross_geller, \"grandmothers\": [judy_geller, sandra_green], \\\n",
    "                  \"grandfathers\": [jack_geller, leonard_green], \"aunts\":[monica_geller, jill_green, amy_green]}"
   ]
  },
  {
   "cell_type": "code",
   "execution_count": 8,
   "metadata": {},
   "outputs": [],
   "source": [
    "judy_geller = Character(\"Mrs. Geller\")\n",
    "jack_geller = Character(\"Mr. Geller\")\n",
    "ben = Character(\"ben\")\n",
    "cassie_geller = Character(\"cassie\", \"geller\")\n",
    "\n",
    "ross_geller.relations = {\"mother\": judy_geller, \"father\": jack_geller, \"sons\": [ben], \"daughters\": [emma],\\\n",
    "                         \"cousins\":[cassie_geller], \"sisters\":[monica_geller]}\n",
    "monica_geller.relations = {\"mother\": judy_geller, \"father\": jack_geller, \"nephews\": [ben], \"neices\":[emma],\\\n",
    "                           \"cousins\":[cassie_geller], \"brothers\":[ross_geller]}\n",
    "ben.relations = {\"father\": ross_geller, \"aunts\": [monica_geller], \"grandmothers\":[judy_geller], \"grandfathers\":[jack_geller]}\n",
    "judy_geller.relations = {\"grandsons\": [ben], \"granddaughters\": [emma], \"neices\":[cassie_geller], \"sons\":[ross_geller],\\\n",
    "                         \"daughters\":[monica_geller]}\n",
    "jack_geller.relations = {\"grandsons\": [ben], \"granddaughters\": [emma], \"neices\":[cassie_geller], \"sons\":[ross_geller],\\\n",
    "                         \"daughters\":[monica_geller]}"
   ]
  },
  {
   "cell_type": "code",
   "execution_count": 10,
   "metadata": {},
   "outputs": [],
   "source": [
    "characters = [chandler_bing, nora_bing, charles_bing, joey_tribbiani, phoebe_buffay, rachel_green, ross_geller, monica_geller,\\\n",
    "              gloria_tribbiani, joseph_tribbiani, therese_tribbiani, angela_tribbiani, dina_tribbiani, \\\n",
    "              gina_tribbiani, tina_tribbiani, veronica_tribbiani, cookie_tribbiani, \\\n",
    "              phoebe_abbott, ursula_buffay, frank_buffay, frances_buffay, sandra_green, leonard_green, \\\n",
    "              emma, amy_green, jill_green, judy_geller, jack_geller, ben, cassie_geller]\n",
    "              "
   ]
  },
  {
   "cell_type": "code",
   "execution_count": 11,
   "metadata": {},
   "outputs": [
    {
     "data": {
      "text/plain": [
       "{'grandsons': [<__main__.Character at 0x1eb832e9128>],\n",
       " 'granddaughters': [<__main__.Character at 0x1eb83251710>],\n",
       " 'neices': [<__main__.Character at 0x1eb832e9160>],\n",
       " 'sons': [<__main__.Character at 0x1eb83248b00>],\n",
       " 'daughters': [<__main__.Character at 0x1eb83248b38>]}"
      ]
     },
     "execution_count": 11,
     "metadata": {},
     "output_type": "execute_result"
    }
   ],
   "source": [
    "judy_geller.relations"
   ]
  },
  {
   "cell_type": "code",
   "execution_count": 12,
   "metadata": {},
   "outputs": [],
   "source": [
    "import pickle\n",
    "with open(\"relations.pkl\", \"wb\") as outfile:\n",
    "    pickle.dump(characters, outfile)"
   ]
  },
  {
   "cell_type": "code",
   "execution_count": 13,
   "metadata": {},
   "outputs": [],
   "source": [
    "# Example import of relations.pkl file\n",
    "'''\n",
    "# Retrieving info from file; returns a list of Characters\n",
    "with open(\"relations.pkl\", \"rb\") as infile:\n",
    "    characters = pickle.load(infile)\n",
    "'''"
   ]
  }
 ],
 "metadata": {
  "kernelspec": {
   "display_name": "Python 3",
   "language": "python",
   "name": "python3"
  },
  "language_info": {
   "codemirror_mode": {
    "name": "ipython",
    "version": 3
   },
   "file_extension": ".py",
   "mimetype": "text/x-python",
   "name": "python",
   "nbconvert_exporter": "python",
   "pygments_lexer": "ipython3",
   "version": "3.7.3"
  }
 },
 "nbformat": 4,
 "nbformat_minor": 2
}
