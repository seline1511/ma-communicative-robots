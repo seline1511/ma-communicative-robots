{
 "cells": [
  {
   "cell_type": "markdown",
   "metadata": {},
   "source": [
    "# Manual Annotation\n",
    "This notebook contains code for extracting utterances for manual annotation. First, an exploration of the data is done to determine appropriate conditions for the annotated data. Next, the data is extracted (utterances that contain \"[my/your/his/her] [kinship_term]\") as a list of dictionaries and placed in a pkl file."
   ]
  },
  {
   "cell_type": "code",
   "execution_count": null,
   "metadata": {},
   "outputs": [],
   "source": [
    "import pickle\n",
    "with open(\"Preprocessed_html_data.pkl\", \"rb\") as infile:\n",
    "    data = pickle.load(infile)"
   ]
  },
  {
   "cell_type": "code",
   "execution_count": null,
   "metadata": {},
   "outputs": [],
   "source": [
    "my = [\"you are my\", \"you're my\", \"he is my\", \"he's my\", \"she is my\", \"she's my\", \"they are my\"]\n",
    "your = [\"he is your\", \"he's your\", \"she is your\", \"she's your\", \"they are your\", \"I am your\", \"we are your\"]\n",
    "her = [\"he is her\", \"he's her\", \"she is her\", \"she's her\", \"they are her\", \"I am her\", \"we are her\"]\n",
    "his = [\"he is his\", \"he's his\", \"she is his\", \"she's his\", \"they are his\", \"I am his\", \"we are his\"]\n",
    "kinships = [\"brother\", \"sister\", \"father\", \"mother\", \"cousin\", \"son\", \"daughter\", \"child\", \"parents\", \"children\", \"baby\",\"mom\",\"dad\"]\n",
    "count = 0\n",
    "for d in data:\n",
    "    source = d[\"source\"]\n",
    "    utterance = d[\"utt\"]\n",
    "    tok_utt = d[\"tok_utt\"]\n",
    "    for kin in kinships:\n",
    "        for l in [my, your, her, his]:\n",
    "            for m in l:\n",
    "                if m + \" \" + kin in utterance:\n",
    "                    count+=1\n",
    "                    print(utterance)"
   ]
  },
  {
   "cell_type": "code",
   "execution_count": null,
   "metadata": {},
   "outputs": [],
   "source": [
    "s = \"ohofsosndf\"\n",
    "s[1:-1]"
   ]
  },
  {
   "cell_type": "markdown",
   "metadata": {},
   "source": [
    "##### 5 instances of \"[pronoun] [be] [my/your/his/her] [kinship_term]\""
   ]
  },
  {
   "cell_type": "code",
   "execution_count": null,
   "metadata": {},
   "outputs": [],
   "source": [
    "count = 0\n",
    "pronouns = [\"my\", \"your\", \"his\", \"her\"]\n",
    "kinships = [\"brother\", \"sister\", \"father\", \"mother\", \"cousin\", \"son\", \"daughter\", \"child\", \"parents\", \"children\", \"baby\",\"mom\",\"dad\"]\n",
    "for d in data:\n",
    "    source = d[\"source\"]\n",
    "    utterance = d[\"utt\"]\n",
    "    tok_utt = d[\"tok_utt\"]\n",
    "    for kin in kinships:\n",
    "        for p in [\"my\"]:\n",
    "            if p + \" \" + kin in utterance:\n",
    "                print(utterance)\n",
    "                count+=1\n",
    "print(count)"
   ]
  },
  {
   "cell_type": "markdown",
   "metadata": {},
   "source": [
    "##### 478 instances of \"[my/your/his/her] [kinship_term]\" ; 242 of \"my [kinship_term]\"\n",
    "This pattern should pretty reliably pick out source (mention) and kinship relation, let's start there\n",
    "\n",
    "Idea now is to turn this into an ML problem, maybe? If we label dialogues with these relation-source pairs,\n",
    "then we can maybe tease out some more info? Was that the idea all along?\n",
    "\n",
    "Other idea is to use this as gold indication that there MIGHT be info as to the target of this relation around. Over a whole corpus, some of these (definitely not all) will give us actual names/referents\n",
    "\n",
    "So maybe what we do is start from sth like this, and then gain evidence. So when Monica says \"my brother\" and \"Ross\" was mentioned in one of the sentences around this, that's some evidence. If she does it more than once, maybe that's enough (or more than twice, w/e). Maybe if Mon says \"my brother\" and Ross also spoke in this dialogue, that's also evidence (maybe not as strong?).\n",
    "\n",
    "If we can find other gold indicators of... some kinship, then that's getting closer. I guess that's the idea behind kinship terms/distant labelling."
   ]
  },
  {
   "cell_type": "code",
   "execution_count": null,
   "metadata": {},
   "outputs": [],
   "source": [
    "count = 0\n",
    "for d in data:\n",
    "    source = d[\"source\"]\n",
    "    utterance = d[\"utt\"]\n",
    "    tok_utt = d[\"tok_utt\"]\n",
    "    for kin in kinships:\n",
    "        if kin in tok_utt:\n",
    "            count += 1\n",
    "print(count)"
   ]
  },
  {
   "cell_type": "markdown",
   "metadata": {},
   "source": [
    "##### 1119 instances of kinship terms in data"
   ]
  },
  {
   "cell_type": "code",
   "execution_count": null,
   "metadata": {},
   "outputs": [],
   "source": [
    "count = 0\n",
    "pronouns = [\"my\", \"your\", \"his\", \"her\"]\n",
    "kinships = [\"brother\", \"sister\", \"father\", \"mother\", \"cousin\", \"son\", \"daughter\", \"child\", \"parents\", \"children\", \"baby\",\"mom\",\"dad\"]\n",
    "for d in data:\n",
    "    source = d[\"source\"]\n",
    "    utterance = d[\"utt\"]\n",
    "    tok_utt = d[\"tok_utt\"]\n",
    "    for p in pronouns:\n",
    "        for i in range(len(tok_utt)):\n",
    "            if tok_utt[i] == p and tok_utt[i+1] in kinships or tok_utt[i+1] in kinships or tok_utt[i+2] in kinships:\n",
    "                count+=1\n",
    "print(count)"
   ]
  },
  {
   "cell_type": "markdown",
   "metadata": {},
   "source": [
    "## Extracting data for annotation\n",
    "This extracts all utterances with \"[my/your/his/her] [kinship_term]\", and the utterances before and after"
   ]
  },
  {
   "cell_type": "code",
   "execution_count": null,
   "metadata": {},
   "outputs": [],
   "source": [
    "count = 0\n",
    "pronouns = [\"my\", \"your\", \"his\", \"her\"]\n",
    "kinships = [\"brother\", \"sister\", \"cousin\", \"mother\", \"father\", \"mom\", \"dad\", \"son\",\\\n",
    "            \"daughter\", \"neice\", \"nephew\", \"twin\", \"aunt\", \"uncle\", \"child\", \"parent\"]\n",
    "\n",
    "my_kinship_lines = [] # list of tuples (prev, current, next) of dicts where current includes \"[poss_pronoun] [kinship_term]\" \n",
    "\n",
    "for i in range(3, len(data)-2):\n",
    "    prev_prev_utt = data[i-2]\n",
    "    prev_utt = data[i-1]\n",
    "    d = data[i]\n",
    "    next_utt = data[i+1]\n",
    "    next_next_utt = data[i+2]\n",
    "    \n",
    "    source = d[\"source\"]\n",
    "    utterance = d[\"utt\"]\n",
    "    tok_utt = d[\"tok_utt\"]\n",
    "    for kin in kinships:\n",
    "        for p in [\"my\", \"your\", \"his\", \"her\"]:\n",
    "            if p + \" \" + kin in utterance:\n",
    "                my_kinship_lines.append((prev_prev_utt, prev_utt, d, next_utt, next_next_utt))\n"
   ]
  },
  {
   "cell_type": "code",
   "execution_count": null,
   "metadata": {},
   "outputs": [],
   "source": [
    "s = \"They're my new 'I don't need a job, I don't need my parents, I've got great boots' boots!\"\n",
    "print()"
   ]
  },
  {
   "cell_type": "code",
   "execution_count": null,
   "metadata": {},
   "outputs": [],
   "source": [
    "len(my_kinship_lines)"
   ]
  },
  {
   "cell_type": "code",
   "execution_count": null,
   "metadata": {},
   "outputs": [],
   "source": [
    "import pickle\n",
    "with open(\"annotation_kinship_utterances.pkl\", \"wb\") as outfile:\n",
    "    pickle.dump(my_kinship_lines, outfile)"
   ]
  },
  {
   "cell_type": "code",
   "execution_count": null,
   "metadata": {},
   "outputs": [],
   "source": [
    "import pickle\n",
    "with open(\"annotation_kinship_utterances.pkl\", \"rb\") as infile:\n",
    "    data = pickle.load(infile)\n",
    "    \n",
    "for t in my_kinship_lines:\n",
    "    for d in t:\n",
    "        source=d[\"source\"]\n",
    "        utt = d[\"utt\"]\n",
    "        print(f\"{source}: {utt}\")\n",
    "    print()"
   ]
  },
  {
   "cell_type": "code",
   "execution_count": null,
   "metadata": {},
   "outputs": [],
   "source": []
  }
 ],
 "metadata": {
  "kernelspec": {
   "display_name": "Python 3",
   "language": "python",
   "name": "python3"
  },
  "language_info": {
   "codemirror_mode": {
    "name": "ipython",
    "version": 3
   },
   "file_extension": ".py",
   "mimetype": "text/x-python",
   "name": "python",
   "nbconvert_exporter": "python",
   "pygments_lexer": "ipython3",
   "version": "3.7.3"
  }
 },
 "nbformat": 4,
 "nbformat_minor": 2
}
