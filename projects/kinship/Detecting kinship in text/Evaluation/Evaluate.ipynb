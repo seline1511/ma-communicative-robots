{
 "cells": [
  {
   "cell_type": "markdown",
   "metadata": {},
   "source": [
    "# Friends Kinship Relations Evaluation\n",
    "This notebook contains code for evaluating systems that detect kinship relations in Friends.\n"
   ]
  },
  {
   "cell_type": "markdown",
   "metadata": {},
   "source": [
    "## 1. Import data"
   ]
  },
  {
   "cell_type": "code",
   "execution_count": 1,
   "metadata": {},
   "outputs": [],
   "source": [
    "import pickle\n",
    "\n",
    "def import_relation_data(filename):\n",
    "    '''\n",
    "    Takes the location of a kinship relation file and returns a set of kinship tuples (source, relation, target)\n",
    "    '''\n",
    "    #kinship_relations = set()\n",
    "    \n",
    "    \n",
    "    with open(filename, 'rb') as infile:\n",
    "        data = pickle.load(infile)\n",
    "        # for relation in data:\n",
    "        #     kinship_relations.add(relation)\n",
    "    \n",
    "    return(data) "
   ]
  },
  {
   "cell_type": "code",
   "execution_count": 5,
   "metadata": {},
   "outputs": [],
   "source": [
    "# import data\n",
    "gold_file = \"../data/gold_relations.pkl\"\n",
    "predicted_file1 = \"../data/predictions_rule1.pkl\"\n",
    "predicted_file2 = \"../data/predictions_rule2.pkl\"\n",
    "predicted_file3 = \"../data/predictions_combined_rules.pkl\"\n",
    "gold_relations = import_relation_data(gold_file)\n",
    "predicted_relations1 = import_relation_data(predicted_file1)\n",
    "predicted_relations2 = import_relation_data(predicted_file2)\n",
    "predicted_relations3 = import_relation_data(predicted_file3)"
   ]
  },
  {
   "cell_type": "markdown",
   "metadata": {},
   "source": [
    "## 2. Evaluate"
   ]
  },
  {
   "cell_type": "code",
   "execution_count": 9,
   "metadata": {},
   "outputs": [
    {
     "name": "stdout",
     "output_type": "stream",
     "text": [
      "0.05652173913043478\n",
      "0.08280254777070063\n",
      "0.06718346253229975\n"
     ]
    }
   ],
   "source": [
    "# compute precision, recall, f1-score\n",
    "TP = 0 # true positives\n",
    "FP = 0 # false positives\n",
    "FN = 0 # false negatives (missed relations)\n",
    "\n",
    "for relation in predicted_relations3:\n",
    "    if relation in gold_relations:\n",
    "        TP += 1\n",
    "    else:\n",
    "        FP += 1\n",
    "for relation in gold_relations:\n",
    "    if relation not in predicted_relations3:\n",
    "        FN += 1\n",
    "\n",
    "precision = TP / (TP + FP)\n",
    "recall = TP / (TP + FN)\n",
    "f1_score = 2*(precision*recall)/(precision+recall)\n",
    "\n",
    "print(precision)\n",
    "print(recall)\n",
    "print(f1_score)"
   ]
  },
  {
   "cell_type": "markdown",
   "metadata": {},
   "source": [
    "## 3. Write to Eval file"
   ]
  },
  {
   "cell_type": "code",
   "execution_count": null,
   "metadata": {},
   "outputs": [],
   "source": [
    "with open(\"eval.tsv\", \"w+\", encoding=\"utf-8\") as outfile:\n",
    "    outfile.write(\"gold_relations\\tpred_relations\\tprecision\\trecall\\tf1_score\\n\")\n",
    "    outfile.write(f\"{len(gold_relations)}\\t{len(predicted_relations)}\\t{precision}\\t{recall}\\t{f1_score}\")"
   ]
  }
 ],
 "metadata": {
  "kernelspec": {
   "display_name": "Python 3",
   "language": "python",
   "name": "python3"
  },
  "language_info": {
   "codemirror_mode": {
    "name": "ipython",
    "version": 3
   },
   "file_extension": ".py",
   "mimetype": "text/x-python",
   "name": "python",
   "nbconvert_exporter": "python",
   "pygments_lexer": "ipython3",
   "version": "3.7.3"
  }
 },
 "nbformat": 4,
 "nbformat_minor": 2
}
