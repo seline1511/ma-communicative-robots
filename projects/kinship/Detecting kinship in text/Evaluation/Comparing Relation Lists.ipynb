{
 "cells": [
  {
   "cell_type": "code",
   "execution_count": 1,
   "metadata": {},
   "outputs": [],
   "source": [
    "import pickle\n",
    "with open(\"../data/gold_relations.pkl\", \"rb\") as infile:\n",
    "    gold_relations = pickle.load(infile)\n",
    "with open(\"../data/predictions_combined_rules.pkl\", \"rb\") as infile:\n",
    "    predictions_combined = pickle.load(infile)\n",
    "with open(\"../data/predictions_rule1.pkl\", \"rb\") as infile:\n",
    "    predictions1 = pickle.load(infile)\n",
    "with open(\"../data/predictions_rule2.pkl\", \"rb\") as infile:\n",
    "    predictions2 = pickle.load(infile)"
   ]
  },
  {
   "cell_type": "code",
   "execution_count": 2,
   "metadata": {},
   "outputs": [],
   "source": [
    "def compare_relations(gold, predicted):\n",
    "    correct_relations = []\n",
    "    for relation in predicted:\n",
    "        if relation in gold:\n",
    "            correct_relations.append(relation)\n",
    "    return correct_relations"
   ]
  },
  {
   "cell_type": "markdown",
   "metadata": {},
   "source": [
    "## Rule 1"
   ]
  },
  {
   "cell_type": "code",
   "execution_count": 4,
   "metadata": {},
   "outputs": [
    {
     "data": {
      "text/plain": [
       "[['Monica', 'has-brother', 'Ross'],\n",
       " ['Phoebe', 'has-brother', 'Frank'],\n",
       " ['Joey', 'has-sister', 'Tina'],\n",
       " ['Phoebe', 'has-sister', 'Ursula'],\n",
       " ['Ross', 'has-sister', 'Monica'],\n",
       " ['Joey', 'has-sister', 'Dina'],\n",
       " ['Ross', 'has-son', 'Ben']]"
      ]
     },
     "execution_count": 4,
     "metadata": {},
     "output_type": "execute_result"
    }
   ],
   "source": [
    "compare_relations(gold_relations, predictions1)"
   ]
  },
  {
   "cell_type": "markdown",
   "metadata": {},
   "source": [
    "## Rule 2"
   ]
  },
  {
   "cell_type": "code",
   "execution_count": 5,
   "metadata": {},
   "outputs": [
    {
     "data": {
      "text/plain": [
       "[['Monica', 'has-brother', 'Ross'],\n",
       " ['Phoebe', 'has-brother', 'Frank'],\n",
       " ['Dina', 'has-brother', 'Joey'],\n",
       " ['Frank', 'has-sister', 'Phoebe'],\n",
       " ['Ross', 'has-sister', 'Monica'],\n",
       " ['Rachel', 'has-sister', 'Jill'],\n",
       " ['Ursula', 'has-sister', 'Phoebe'],\n",
       " ['Joey', 'has-sister', 'Dina'],\n",
       " ['Ross', 'has-father', 'Mr. Geller'],\n",
       " ['Mrs. Bing', 'has-son', 'Chandler']]"
      ]
     },
     "execution_count": 5,
     "metadata": {},
     "output_type": "execute_result"
    }
   ],
   "source": [
    "compare_relations(gold_relations, predictions2)"
   ]
  },
  {
   "cell_type": "markdown",
   "metadata": {},
   "source": [
    "## Combined rules"
   ]
  },
  {
   "cell_type": "code",
   "execution_count": 6,
   "metadata": {},
   "outputs": [
    {
     "data": {
      "text/plain": [
       "[['Monica', 'has-brother', 'Ross'],\n",
       " ['Phoebe', 'has-brother', 'Frank'],\n",
       " ['Joey', 'has-sister', 'Tina'],\n",
       " ['Phoebe', 'has-sister', 'Ursula'],\n",
       " ['Ross', 'has-sister', 'Monica'],\n",
       " ['Joey', 'has-sister', 'Dina'],\n",
       " ['Ross', 'has-son', 'Ben'],\n",
       " ['Dina', 'has-brother', 'Joey'],\n",
       " ['Frank', 'has-sister', 'Phoebe'],\n",
       " ['Rachel', 'has-sister', 'Jill'],\n",
       " ['Ursula', 'has-sister', 'Phoebe'],\n",
       " ['Ross', 'has-father', 'Mr. Geller'],\n",
       " ['Mrs. Bing', 'has-son', 'Chandler']]"
      ]
     },
     "execution_count": 6,
     "metadata": {},
     "output_type": "execute_result"
    }
   ],
   "source": [
    "compare_relations(gold_relations, predictions_combined)"
   ]
  },
  {
   "cell_type": "code",
   "execution_count": null,
   "metadata": {},
   "outputs": [],
   "source": []
  }
 ],
 "metadata": {
  "kernelspec": {
   "display_name": "Python 3",
   "language": "python",
   "name": "python3"
  },
  "language_info": {
   "codemirror_mode": {
    "name": "ipython",
    "version": 3
   },
   "file_extension": ".py",
   "mimetype": "text/x-python",
   "name": "python",
   "nbconvert_exporter": "python",
   "pygments_lexer": "ipython3",
   "version": "3.7.3"
  }
 },
 "nbformat": 4,
 "nbformat_minor": 2
}
