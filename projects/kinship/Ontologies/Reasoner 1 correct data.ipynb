{
 "cells": [
  {
   "cell_type": "markdown",
   "metadata": {},
   "source": [
    "### Import rdflib and create functions"
   ]
  },
  {
   "cell_type": "markdown",
   "metadata": {},
   "source": [
    "* g is the ontology graph where the infered relations are added to\n",
    "* Serialize is a function that transforms the ontology into a turle format\n",
    "* Save is a function that can save the ontology as a turtle file\n",
    "* Load is a function that loads the ontology into this file\n",
    "* Shorten is a function that shows the prefix + subject, property or object    vb. kinship1:has_mother\n",
    "* Relation shows only the subject, property or object"
   ]
  },
  {
   "cell_type": "code",
   "execution_count": 1,
   "metadata": {},
   "outputs": [],
   "source": [
    "from rdflib import Graph, RDF, RDFS, Namespace, Literal, URIRef \n",
    "import pandas as pd\n",
    "\n",
    "pd.set_option('display.max_rows', 999)\n",
    "\n",
    "\n",
    "df = pd.DataFrame()\n",
    "g = Graph()\n",
    "\n",
    "KIN = Namespace('http://www.semanticweb.org/combots#')\n",
    "g.bind('kinship1',KIN)\n",
    "\n",
    "def serialize():\n",
    "    print(g.serialize(format='turtle').decode(\"utf-8\"))\n",
    "\n",
    "def save(filename):\n",
    "    with open(filename, 'wb') as f:\n",
    "        g.serialize(f, format='turtle')\n",
    "        \n",
    "def load(filename):\n",
    "    with open(filename, 'r') as f:\n",
    "        g.load(f, format='turtle') \n",
    "    \n",
    "def shorten(uri):\n",
    "    if isinstance(uri, Literal):\n",
    "        return uri    \n",
    "    components = g.namespace_manager.compute_qname(uri)\n",
    "    return '%s:%s'%(components[0], components[2])\n",
    "\n",
    "def relation(uri):\n",
    "    if isinstance(uri, Literal):\n",
    "        return uri    \n",
    "    components = g.namespace_manager.compute_qname(uri)\n",
    "    return '%s'%(components[2])"
   ]
  },
  {
   "cell_type": "markdown",
   "metadata": {},
   "source": [
    "## Create counter that counts the amount of newly created relations in this ontology."
   ]
  },
  {
   "cell_type": "code",
   "execution_count": 2,
   "metadata": {},
   "outputs": [],
   "source": [
    "new_relations_counter = 0"
   ]
  },
  {
   "cell_type": "markdown",
   "metadata": {},
   "source": [
    "### Load in the ontology and print in turtle format"
   ]
  },
  {
   "cell_type": "code",
   "execution_count": 3,
   "metadata": {},
   "outputs": [
    {
     "name": "stdout",
     "output_type": "stream",
     "text": [
      "@prefix kinship1: <http://www.semanticweb.org/combots#> .\n",
      "@prefix owl: <http://www.w3.org/2002/07/owl#> .\n",
      "\n",
      "kinship1:Mrs._Bing kinship1:has_Son kinship1:Chandler .\n",
      "\n",
      "kinship1:Rachel kinship1:has_Sister kinship1:Jill .\n",
      "\n",
      "kinship1:Dina kinship1:has_Brother kinship1:Joey .\n",
      "\n",
      "kinship1:Frank kinship1:has_Sister kinship1:Phoebe .\n",
      "\n",
      "kinship1:Joey kinship1:has_Sister kinship1:Dina,\n",
      "        kinship1:Tina .\n",
      "\n",
      "kinship1:Monica kinship1:has_Brother kinship1:Ross .\n",
      "\n",
      "kinship1:Ross kinship1:has_Father kinship1:Mr._Geller ;\n",
      "    kinship1:has_Sister kinship1:Monica ;\n",
      "    kinship1:has_Son kinship1:Ben .\n",
      "\n",
      "kinship1:Ursula kinship1:has_Sister kinship1:Phoebe .\n",
      "\n",
      "kinship1:Phoebe kinship1:has_Brother kinship1:Frank ;\n",
      "    kinship1:has_Sister kinship1:Ursula .\n",
      "\n",
      "[] a owl:Ontology .\n",
      "\n",
      "\n"
     ]
    }
   ],
   "source": [
    "load('correct_output_ontology.ttl')\n",
    "serialize()"
   ]
  },
  {
   "cell_type": "markdown",
   "metadata": {},
   "source": [
    "### Create empty lists and values that have to be filled later."
   ]
  },
  {
   "cell_type": "code",
   "execution_count": 4,
   "metadata": {},
   "outputs": [],
   "source": [
    "parent  = []\n",
    "parent2 = []\n",
    "father  = []\n",
    "mother  = []\n",
    "child   = []\n",
    "child2  = []\n",
    "son     = []\n",
    "daughter = []\n",
    "grandchild = []\n",
    "grandchild2 = []\n",
    "grandparent = []\n",
    "grandparent2 = []\n",
    "inv1    = []\n",
    "inv2    = []\n",
    "disj1   = []\n",
    "disj2   = []\n",
    "couple  = []\n",
    "couple2 = []\n",
    "marriage = []\n",
    "marriage2 = []\n",
    "marriage3 = []\n",
    "marriage4 = []\n",
    "marriage5 = []\n",
    "marriage6 = []\n",
    "marriage7 = []\n",
    "marriage8 = []\n",
    "cousin1 = []\n",
    "cousin2 = []\n",
    "sibling1 = []\n",
    "sibling2 = []"
   ]
  },
  {
   "cell_type": "markdown",
   "metadata": {},
   "source": [
    "### Create a dataframe that later shows the inferred gender relations and dataframe that shows the inferred relations."
   ]
  },
  {
   "cell_type": "code",
   "execution_count": 5,
   "metadata": {},
   "outputs": [],
   "source": [
    "df = pd.DataFrame(columns = [\"Relation\", \"Subject\", \"Property\", \"Object\"])\n",
    "df2 = pd.DataFrame(columns = [\"Subject\", \"Property\", \"Object\"])\n",
    "df5 = pd.DataFrame(columns = [\"Subject\", \"Property\", \"Object\"])\n",
    "# df8 = pd.DataFrame(columns = [\"Subject\", \"Property\", \"Object\"])\n",
    "df_sibling =  pd.DataFrame(columns = [\"Subject\", \"Object\"])\n",
    "# df25 = pd.DataFrame(columns = [\"Subject\", \"Property\", \"Object\"])"
   ]
  },
  {
   "cell_type": "markdown",
   "metadata": {},
   "source": [
    " ### Fill the lists with the right values and add gender to individuals\n",
    " The known relations will be added seperatly in lists and the genders of the individuals will be added to the ontology by determining what their relation is with other individuals. For example, if someone is a mother she will automatically also be a woman."
   ]
  },
  {
   "cell_type": "code",
   "execution_count": 6,
   "metadata": {},
   "outputs": [],
   "source": [
    "for s,p,o in g:\n",
    "# PARENT RELATIONS\n",
    "    if shorten(p) == \"kinship1:has_parent\" or shorten(p) == \"kinship1:has_Father\" or shorten(p) == \"kinship1:has_Mother\":\n",
    "        parent.append(o)\n",
    "        child.append(s) \n",
    "    if shorten(p) == \"kinship1:has_Father\":\n",
    "        df = df.append({'Relation': \"Father\", 'Subject': relation(o), 'Property': relation(RDFS.domain),\"Object\":relation(KIN.man) }, ignore_index=True)\n",
    "        g.add((o, RDFS.domain, KIN.man))\n",
    "        new_relations_counter +=1\n",
    "    if shorten(p) == \"kinship1:has_Mother\":\n",
    "        df = df.append({'Relation': \"Mother\", 'Subject': relation(o), 'Property': relation(RDFS.domain),\"Object\":relation(KIN.woman) }, ignore_index=True)\n",
    "        g.add((o, RDFS.domain, KIN.woman))\n",
    "        new_relations_counter +=1\n",
    "        \n",
    "# GRANDPARENT RELATIONS\n",
    "    if shorten(p) == \"kinship1:has_Grandparent\" or shorten(p) == \"kinship1:has_Grandfather \" or shorten(p) == \"kinship1:has_Grandmother\":\n",
    "        grandparent.append(o)\n",
    "        grandchild.append(s)    \n",
    "    if shorten(p) == \"kinship1:has_Grandfather\":\n",
    "        df = df.append({'Relation': \"Grandfather\", 'Subject': relation(o), 'Property': relation(RDFS.domain),\"Object\":relation(KIN.man) }, ignore_index=True)\n",
    "        g.add((o, RDFS.domain, KIN.man))\n",
    "        new_relations_counter +=1\n",
    "    if shorten(p) == \"kinship1:has_Grandmother\":\n",
    "        df = df.append({'Relation': \"Grandmother\", 'Subject': relation(o), 'Property': relation(RDFS.domain),\"Object\":relation(KIN.woman) }, ignore_index=True)\n",
    "        g.add((o, RDFS.domain, KIN.woman))\n",
    "        new_relations_counter +=1\n",
    "        \n",
    "# CHILD RELATIONS       \n",
    "    if shorten(p) == \"kinship1:has_Child\" or shorten(p) == \"kinship1:has_Son\" or shorten(p) == \"kinship1:has_Dauther\": #typo in ontology daughter\n",
    "        child2.append(o)\n",
    "        parent2.append(s)    \n",
    "    if shorten(p) == \"kinship1:has_Son\":\n",
    "        df = df.append({'Relation': \"Son\", 'Subject': relation(o), 'Property': relation(RDFS.domain),\"Object\":relation(KIN.man) }, ignore_index=True)\n",
    "        g.add((o, RDFS.domain, KIN.man))\n",
    "        new_relations_counter +=1\n",
    "    if shorten(p) == \"kinship1:has_Dauther\":\n",
    "        df = df.append({'Relation': \"Daughter\", 'Subject': relation(o), 'Property': relation(RDFS.domain),\"Object\":relation(KIN.woman) }, ignore_index=True)\n",
    "        g.add((o, RDFS.domain, KIN.woman))\n",
    "        new_relations_counter +=1\n",
    "\n",
    "# GRANDCHILD RELATIONS       \n",
    "    if shorten(p) == \"kinship1:has_Grandchild\" or shorten(p) == \"kinship1:has_Grandson\" or shorten(p) == \"kinship1:has_Granddaughter\": \n",
    "        grandchild2.append(o)\n",
    "        grandparent2.append(s)   \n",
    "    if shorten(p) == \"kinship1:has_Grandson\":\n",
    "        df = df.append({'Relation': \"Grandson\", 'Subject': relation(o), 'Property': relation(RDFS.domain),\"Object\":relation(KIN.man) }, ignore_index=True)\n",
    "        g.add((o, RDFS.domain, KIN.man))\n",
    "        new_relations_counter +=1\n",
    "    if shorten(p) == \"kinship1:has_Granddaughter\":\n",
    "        df = df.append({'Relation': \"Granddaughter\", 'Subject': relation(o), 'Property': relation(RDFS.domain),\"Object\":relation(KIN.woman) }, ignore_index=True)\n",
    "        g.add((o, RDFS.domain, KIN.woman))\n",
    "        new_relations_counter +=1\n",
    "        \n",
    "# SIBLING RELATIONS\n",
    "    if shorten(p) == \"kinship1:has_Sibling\" or  shorten(p) == \"kinship1:has_Sister\" or shorten(p) == \"kinship1:has_Brother\": \n",
    "        sibling1.append(o)\n",
    "        sibling2.append(s)\n",
    "    if shorten(p) == \"kinship1:has_Brother\":\n",
    "        df = df.append({'Relation': \"Brother\", 'Subject': relation(o), 'Property': relation(RDFS.domain),\"Object\":relation(KIN.man) }, ignore_index=True)\n",
    "        g.add((o, RDFS.domain, KIN.man))\n",
    "        new_relations_counter +=1\n",
    "    if shorten(p) == \"kinship1:has_Sister\":\n",
    "        df = df.append({'Relation': \"Sister\", 'Subject': relation(o), 'Property': relation(RDFS.domain),\"Object\":relation(KIN.woman) }, ignore_index=True)\n",
    "        g.add((o, RDFS.domain, KIN.woman))\n",
    "        new_relations_counter +=1\n",
    "\n",
    "# COUSIN RELATIONS\n",
    "    if shorten(p) == \"kinship1:has_Cousin\":\n",
    "        cousin1.append(o)\n",
    "        cousin2.append(s)\n",
    "\n",
    "#RELATIONSHIPS \n",
    "    if shorten(p) == \"kinship1:has_Husband\" or shorten(p) == \"kinship1:has_Wife\":\n",
    "        couple.append(o)\n",
    "        couple2.append(s)\n",
    "    if shorten(p) == \"kinship1:has_Husband\":\n",
    "        marriage.append(o)\n",
    "        marriage2.append(s)\n",
    "        g.add((o, RDFS.domain, KIN.man))\n",
    "        new_relations_counter +=1\n",
    "        df = df.append({'Relation': \"Husband\", 'Subject': relation(o), 'Property': relation(RDFS.domain),\"Object\":relation(KIN.man) }, ignore_index=True)\n",
    "    if shorten(p) == \"kinship1:has_Wife\":\n",
    "        marriage3.append(o)\n",
    "        marriage4.append(s)\n",
    "        g.add((o, RDFS.domain, KIN.woman))\n",
    "        new_relations_counter +=1\n",
    "        df = df.append({'Relation': \"Wife\", 'Subject': relation(o), 'Property': relation(RDFS.domain),\"Object\":relation(KIN.woman) }, ignore_index=True)\n",
    "    if shorten(p) == \"kinship1:has_Ex_husband\":\n",
    "        marriage5.append(o)\n",
    "        marriage6.append(s)\n",
    "        g.add((o, RDFS.domain, KIN.man)) \n",
    "        new_relations_counter +=1\n",
    "        df = df.append({'Relation': \"Ex_Husband\", 'Subject': relation(o), 'Property': relation(RDFS.domain),\"Object\":relation(KIN.man) }, ignore_index=True)\n",
    "    if shorten(p) == \"kinship1:has_Ex_wife\":\n",
    "        marriage7.append(o)\n",
    "        marriage8.append(s)\n",
    "        g.add((o, RDFS.domain, KIN.woman))  \n",
    "        new_relations_counter +=1\n",
    "        df = df.append({'Relation': \"Ex_Wife\", 'Subject': relation(o), 'Property': relation(RDFS.domain),\"Object\":relation(KIN.woman) }, ignore_index=True)"
   ]
  },
  {
   "cell_type": "markdown",
   "metadata": {},
   "source": [
    "### Print a table with the inferred gender relations that are added to the ontology"
   ]
  },
  {
   "cell_type": "code",
   "execution_count": 7,
   "metadata": {},
   "outputs": [
    {
     "data": {
      "text/html": [
       "<div>\n",
       "<style scoped>\n",
       "    .dataframe tbody tr th:only-of-type {\n",
       "        vertical-align: middle;\n",
       "    }\n",
       "\n",
       "    .dataframe tbody tr th {\n",
       "        vertical-align: top;\n",
       "    }\n",
       "\n",
       "    .dataframe thead th {\n",
       "        text-align: right;\n",
       "    }\n",
       "</style>\n",
       "<table border=\"1\" class=\"dataframe\">\n",
       "  <thead>\n",
       "    <tr style=\"text-align: right;\">\n",
       "      <th></th>\n",
       "      <th>Relation</th>\n",
       "      <th>Subject</th>\n",
       "      <th>Property</th>\n",
       "      <th>Object</th>\n",
       "    </tr>\n",
       "  </thead>\n",
       "  <tbody>\n",
       "    <tr>\n",
       "      <th>0</th>\n",
       "      <td>Brother</td>\n",
       "      <td>Frank</td>\n",
       "      <td>domain</td>\n",
       "      <td>man</td>\n",
       "    </tr>\n",
       "    <tr>\n",
       "      <th>1</th>\n",
       "      <td>Brother</td>\n",
       "      <td>Ross</td>\n",
       "      <td>domain</td>\n",
       "      <td>man</td>\n",
       "    </tr>\n",
       "    <tr>\n",
       "      <th>2</th>\n",
       "      <td>Brother</td>\n",
       "      <td>Joey</td>\n",
       "      <td>domain</td>\n",
       "      <td>man</td>\n",
       "    </tr>\n",
       "    <tr>\n",
       "      <th>3</th>\n",
       "      <td>Father</td>\n",
       "      <td>Mr._Geller</td>\n",
       "      <td>domain</td>\n",
       "      <td>man</td>\n",
       "    </tr>\n",
       "    <tr>\n",
       "      <th>4</th>\n",
       "      <td>Sister</td>\n",
       "      <td>Jill</td>\n",
       "      <td>domain</td>\n",
       "      <td>woman</td>\n",
       "    </tr>\n",
       "    <tr>\n",
       "      <th>5</th>\n",
       "      <td>Sister</td>\n",
       "      <td>Monica</td>\n",
       "      <td>domain</td>\n",
       "      <td>woman</td>\n",
       "    </tr>\n",
       "    <tr>\n",
       "      <th>6</th>\n",
       "      <td>Sister</td>\n",
       "      <td>Dina</td>\n",
       "      <td>domain</td>\n",
       "      <td>woman</td>\n",
       "    </tr>\n",
       "    <tr>\n",
       "      <th>7</th>\n",
       "      <td>Sister</td>\n",
       "      <td>Ursula</td>\n",
       "      <td>domain</td>\n",
       "      <td>woman</td>\n",
       "    </tr>\n",
       "    <tr>\n",
       "      <th>8</th>\n",
       "      <td>Sister</td>\n",
       "      <td>Phoebe</td>\n",
       "      <td>domain</td>\n",
       "      <td>woman</td>\n",
       "    </tr>\n",
       "    <tr>\n",
       "      <th>9</th>\n",
       "      <td>Sister</td>\n",
       "      <td>Tina</td>\n",
       "      <td>domain</td>\n",
       "      <td>woman</td>\n",
       "    </tr>\n",
       "    <tr>\n",
       "      <th>10</th>\n",
       "      <td>Son</td>\n",
       "      <td>Chandler</td>\n",
       "      <td>domain</td>\n",
       "      <td>man</td>\n",
       "    </tr>\n",
       "    <tr>\n",
       "      <th>11</th>\n",
       "      <td>Son</td>\n",
       "      <td>Ben</td>\n",
       "      <td>domain</td>\n",
       "      <td>man</td>\n",
       "    </tr>\n",
       "  </tbody>\n",
       "</table>\n",
       "</div>"
      ],
      "text/plain": [
       "   Relation     Subject Property Object\n",
       "0   Brother       Frank   domain    man\n",
       "1   Brother        Ross   domain    man\n",
       "2   Brother        Joey   domain    man\n",
       "3    Father  Mr._Geller   domain    man\n",
       "4    Sister        Jill   domain  woman\n",
       "5    Sister      Monica   domain  woman\n",
       "6    Sister        Dina   domain  woman\n",
       "7    Sister      Ursula   domain  woman\n",
       "8    Sister      Phoebe   domain  woman\n",
       "9    Sister        Tina   domain  woman\n",
       "10      Son    Chandler   domain    man\n",
       "11      Son         Ben   domain    man"
      ]
     },
     "execution_count": 7,
     "metadata": {},
     "output_type": "execute_result"
    }
   ],
   "source": [
    "df = df.drop_duplicates().sort_values(by=['Relation'])\n",
    "df.reset_index(drop=True)"
   ]
  },
  {
   "cell_type": "code",
   "execution_count": 8,
   "metadata": {},
   "outputs": [
    {
     "name": "stdout",
     "output_type": "stream",
     "text": [
      "@prefix kinship1: <http://www.semanticweb.org/combots#> .\n",
      "@prefix owl: <http://www.w3.org/2002/07/owl#> .\n",
      "@prefix rdfs: <http://www.w3.org/2000/01/rdf-schema#> .\n",
      "\n",
      "kinship1:Mrs._Bing kinship1:has_Son kinship1:Chandler .\n",
      "\n",
      "kinship1:Rachel kinship1:has_Sister kinship1:Jill .\n",
      "\n",
      "kinship1:Ben rdfs:domain kinship1:man .\n",
      "\n",
      "kinship1:Chandler rdfs:domain kinship1:man .\n",
      "\n",
      "kinship1:Dina kinship1:has_Brother kinship1:Joey ;\n",
      "    rdfs:domain kinship1:woman .\n",
      "\n",
      "kinship1:Frank kinship1:has_Sister kinship1:Phoebe ;\n",
      "    rdfs:domain kinship1:man .\n",
      "\n",
      "kinship1:Jill rdfs:domain kinship1:woman .\n",
      "\n",
      "kinship1:Joey kinship1:has_Sister kinship1:Dina,\n",
      "        kinship1:Tina ;\n",
      "    rdfs:domain kinship1:man .\n",
      "\n",
      "kinship1:Monica kinship1:has_Brother kinship1:Ross ;\n",
      "    rdfs:domain kinship1:woman .\n",
      "\n",
      "kinship1:Mr._Geller rdfs:domain kinship1:man .\n",
      "\n",
      "kinship1:Ross kinship1:has_Father kinship1:Mr._Geller ;\n",
      "    kinship1:has_Sister kinship1:Monica ;\n",
      "    kinship1:has_Son kinship1:Ben ;\n",
      "    rdfs:domain kinship1:man .\n",
      "\n",
      "kinship1:Tina rdfs:domain kinship1:woman .\n",
      "\n",
      "kinship1:Ursula kinship1:has_Sister kinship1:Phoebe ;\n",
      "    rdfs:domain kinship1:woman .\n",
      "\n",
      "kinship1:Phoebe kinship1:has_Brother kinship1:Frank ;\n",
      "    kinship1:has_Sister kinship1:Ursula ;\n",
      "    rdfs:domain kinship1:woman .\n",
      "\n",
      "[] a owl:Ontology .\n",
      "\n",
      "\n"
     ]
    }
   ],
   "source": [
    "serialize() "
   ]
  },
  {
   "cell_type": "markdown",
   "metadata": {},
   "source": [
    "### Extract all the necessary properties"
   ]
  },
  {
   "cell_type": "code",
   "execution_count": 9,
   "metadata": {},
   "outputs": [],
   "source": [
    "for s,p,o in g:\n",
    "    if shorten(p) == \"owl:inverseOf\":\n",
    "        inv1.append(o)\n",
    "        inv2.append(s)\n",
    "        if shorten(s) == \"kinship1:has_Child\":\n",
    "            child_property = s \n",
    "        if shorten(o) == \"kinship1:has_parent\":\n",
    "            parent_property = o\n",
    "        if shorten(s) == \"kinship1:has_Grandchild\":\n",
    "            grandchild_property = s\n",
    "        if shorten(o) == \"kinship1:has_Grandparent\":\n",
    "            grandparent_property = o\n",
    "        \n",
    "    if shorten(p) == \"owl:propertyDisjointWith\":\n",
    "        disj1.append(o)\n",
    "        disj2.append(s)\n",
    "        if shorten(s) == \"kinship1:has_Husband\":\n",
    "            husband_property = s\n",
    "        if shorten(o) == \"kinship1:has_Wife\":\n",
    "            wife_property = o\n",
    "        if shorten(s) == \"kinship1:has_Ex_husband\":\n",
    "            ex_husband_property = s\n",
    "        if shorten(o) == \"kinship1:has_Ex_wife\":\n",
    "            ex_wife_property = o\n",
    "            \n",
    "    if shorten(o) == \"owl:SymmetricProperty\":\n",
    "        symprop = shorten(o)\n",
    "        if shorten(s) ==  \"kinship1:has_Cousin\":\n",
    "            cousin_property = s\n",
    "        if shorten(s) == \"kinship1:has_Sibling\":\n",
    "            sibling_property = s\n",
    "            \n",
    "\n",
    "    if shorten(o) == \"owl:IrreflexiveProperty\":\n",
    "        if shorten(s) == \"kinship1:has_Partner\":\n",
    "            partner_property = s\n",
    "        if shorten(s) == \"kinship1:has_Father\":\n",
    "            father_property = s\n",
    "        if shorten(s) == \"kinship1:has_Mother\":\n",
    "            mother_property = s\n",
    "        if shorten(s) ==  \"kinship1:has_Son\"  :\n",
    "            son_property = s\n",
    "        if shorten(s) == \"kinship1:has_Daughter\":\n",
    "            daughter_property = s\n",
    "        if shorten(s) == \"kinship1:has_Grandson\":\n",
    "            grandson_property = s\n",
    "        if shorten(s) == \"kinship1:has_Granddaughter\":\n",
    "            granddaughter_property = s\n",
    "        if shorten(s) == \"kinship1:has_Grandfather\":\n",
    "            grandfather_property = s\n",
    "        if shorten(s) == \"kinship1:has_Grandmother\":\n",
    "            grandmother_property = s\n",
    "        if shorten(s) == \"kinship1:has_Brother\":\n",
    "            brother_property = s\n",
    "        if shorten(s) == \"kinship1:has_Sister\":\n",
    "            sister_property = s\n",
    "        if shorten(s) == \"kinship1:has_twin\":\n",
    "            twin_property = s"
   ]
  },
  {
   "cell_type": "markdown",
   "metadata": {},
   "source": [
    "Print the properties to show what they look like."
   ]
  },
  {
   "cell_type": "code",
   "execution_count": 10,
   "metadata": {},
   "outputs": [
    {
     "ename": "NameError",
     "evalue": "name 'child_property' is not defined",
     "output_type": "error",
     "traceback": [
      "\u001b[1;31m---------------------------------------------------------------------------\u001b[0m",
      "\u001b[1;31mNameError\u001b[0m                                 Traceback (most recent call last)",
      "\u001b[1;32m<ipython-input-10-833277d93f01>\u001b[0m in \u001b[0;36m<module>\u001b[1;34m\u001b[0m\n\u001b[1;32m----> 1\u001b[1;33m \u001b[0mprint\u001b[0m\u001b[1;33m(\u001b[0m\u001b[1;34m\"child_property\"\u001b[0m\u001b[1;33m,\u001b[0m \u001b[0mchild_property\u001b[0m\u001b[1;33m)\u001b[0m\u001b[1;33m\u001b[0m\u001b[1;33m\u001b[0m\u001b[0m\n\u001b[0m\u001b[0;32m      2\u001b[0m \u001b[0mprint\u001b[0m\u001b[1;33m(\u001b[0m\u001b[1;34m\"parent_property\"\u001b[0m\u001b[1;33m,\u001b[0m \u001b[0mparent_property\u001b[0m\u001b[1;33m)\u001b[0m\u001b[1;33m\u001b[0m\u001b[1;33m\u001b[0m\u001b[0m\n\u001b[0;32m      3\u001b[0m \u001b[0mprint\u001b[0m\u001b[1;33m(\u001b[0m\u001b[1;34m\"grandchild_property\"\u001b[0m\u001b[1;33m,\u001b[0m \u001b[0mgrandchild_property\u001b[0m\u001b[1;33m)\u001b[0m\u001b[1;33m\u001b[0m\u001b[1;33m\u001b[0m\u001b[0m\n\u001b[0;32m      4\u001b[0m \u001b[0mprint\u001b[0m\u001b[1;33m(\u001b[0m\u001b[1;34m\"grandparent_property\"\u001b[0m\u001b[1;33m,\u001b[0m \u001b[0mgrandparent_property\u001b[0m\u001b[1;33m)\u001b[0m\u001b[1;33m\u001b[0m\u001b[1;33m\u001b[0m\u001b[0m\n\u001b[0;32m      5\u001b[0m \u001b[0mprint\u001b[0m\u001b[1;33m(\u001b[0m\u001b[1;34m\"husband_property\"\u001b[0m\u001b[1;33m,\u001b[0m \u001b[0mhusband_property\u001b[0m\u001b[1;33m)\u001b[0m\u001b[1;33m\u001b[0m\u001b[1;33m\u001b[0m\u001b[0m\n",
      "\u001b[1;31mNameError\u001b[0m: name 'child_property' is not defined"
     ]
    }
   ],
   "source": [
    "print(\"child_property\", child_property)\n",
    "print(\"parent_property\", parent_property)\n",
    "print(\"grandchild_property\", grandchild_property)\n",
    "print(\"grandparent_property\", grandparent_property)\n",
    "print(\"husband_property\", husband_property)\n",
    "print(\"wife_property\", wife_property)\n",
    "print(\"ex_husband_property\", ex_husband_property)\n",
    "print(\"ex_wife_property\", ex_wife_property)\n",
    "print(\"cousin_property\", cousin_property)\n",
    "print(\"partner_property\", partner_property)\n",
    "print(\"father_property\", father_property)\n",
    "print(\"mother_property\", mother_property)\n",
    "print(\"son_property\", son_property)\n",
    "print(\"daughter_property\", daughter_property)\n",
    "print(\"grandson_property\", grandson_property)\n",
    "print(\"granddaughter_property\", granddaughter_property)\n",
    "print(\"grandfather_property\", grandfather_property)\n",
    "print(\"grandmother_property\", grandmother_property)\n",
    "print(\"brother_property\", brother_property)\n",
    "print(\"sister_property\", sister_property)\n",
    "print(\"twin_property\", twin_property)\n",
    "print(\"sibling_property\", sibling_property)\n"
   ]
  },
  {
   "cell_type": "markdown",
   "metadata": {},
   "source": [
    "### Create functions to iterate through the lists and add the reversed relations with the right property to the ontology.\n",
    "All the added relations are also added to a dataframe."
   ]
  },
  {
   "cell_type": "code",
   "execution_count": null,
   "metadata": {},
   "outputs": [],
   "source": [
    "def create_inferrence(new_subject, new_property, new_object, ignore_index=True):\n",
    "    global df2\n",
    "    global new_relations_counter\n",
    "    for i in range(len### Create functions to iterate through the lists and add the reversed relations with the right property to the ontology.\n",
    "All the added relations are also added to a dataframe.(new_subject)):\n",
    "        g.add((new_subject[i], new_property, new_object[i]))\n",
    "        new_relations_counter +=1\n",
    "        data = [[ relation(new_subject[i]), relation(new_property), relation(new_object[i])]]\n",
    "        df3 = pd.DataFrame(data, columns = ['Subject', 'Property', \"Object\"])\n",
    "        df2 = df2.append(df3)"
   ]
  },
  {
   "cell_type": "code",
   "execution_count": null,
   "metadata": {},
   "outputs": [],
   "source": [
    "create_inferrence(parent, child_property, child)\n",
    "create_inferrence(child2, parent_property, parent2)\n",
    "create_inferrence(grandparent, grandchild_property, grandchild)\n",
    "create_inferrence(grandchild2, grandparent_property, grandparent2)\n",
    "\n",
    "create_inferrence(couple, partner_property, couple2)\n",
    "create_inferrence(marriage, wife_property, marriage2)\n",
    "create_inferrence(marriage3, husband_property, marriage4)\n",
    "create_inferrence(marriage5, ex_wife_property, marriage6)\n",
    "create_inferrence(marriage7, ex_husband_property, marriage8)\n",
    "\n",
    "create_inferrence(cousin1, cousin_property, cousin2)\n",
    "\n",
    "# print(create_inferrence(sibling1, sibling_property, sibling2))"
   ]
  },
  {
   "cell_type": "code",
   "execution_count": null,
   "metadata": {},
   "outputs": [],
   "source": [
    "df2.reset_index(drop=True)"
   ]
  },
  {
   "cell_type": "code",
   "execution_count": null,
   "metadata": {},
   "outputs": [],
   "source": [
    "serialize() "
   ]
  },
  {
   "cell_type": "markdown",
   "metadata": {},
   "source": [
    "## Extract all the man and woman. And if someone participates in a relation that is not dependent on gender, they will be added to the appropriate list. "
   ]
  },
  {
   "cell_type": "code",
   "execution_count": null,
   "metadata": {},
   "outputs": [],
   "source": [
    "woman_list = []\n",
    "man_list = []\n",
    "has_parent_relation = []\n",
    "has_child_relation = []\n",
    "has_grandparent_relation = []\n",
    "has_grandchild_relation = []\n",
    "has_sibling_relation = []\n",
    "\n",
    "for s,p,o in g:\n",
    "    if shorten(o) ==  \"kinship1:woman\":\n",
    "        woman_list.append(s)\n",
    "    if shorten(o) ==  \"kinship1:man\":\n",
    "        man_list.append(s)\n",
    "    if shorten(p) == \"kinship1:has_parent\":# or shorten(p) == \"kinship1:has_Father\" or shorten(p) == \"kinship1:has_Mother\":\n",
    "        has_parent_relation.append((o, s))\n",
    "    if shorten(p) == \"kinship1:has_Child\":# or shorten(p) == \"kinship1:has_Son\" or shorten(p) == \"kinship1:has_Dauther\":\n",
    "        has_child_relation.append((o, s))\n",
    "    if shorten(p) == \"kinship1:has_Grandparent\":# or shorten(p) == \"kinship1:has_Grandfather \" or shorten(p) == \"kinship1:has_Grandmother\":\n",
    "        has_grandparent_relation.append((o, s))\n",
    "    if shorten(p) == \"kinship1:has_Grandchild\": #or shorten(p) == \"kinship1:has_Grandson\" or shorten(p) == \"kinship1:has_Granddaughter\":\n",
    "        has_grandchild_relation.append((o, s))\n",
    "    if shorten(p) == \"kinship1:has_Sibling\":\n",
    "        has_sibling_relation.append((o,s))"
   ]
  },
  {
   "cell_type": "markdown",
   "metadata": {},
   "source": [
    "## Add relations that are gender based."
   ]
  },
  {
   "cell_type": "code",
   "execution_count": null,
   "metadata": {},
   "outputs": [],
   "source": [
    "mothers = set(woman_list) & set([x[0] for x in has_parent_relation])\n",
    "fathers = set(man_list) & set([x[0] for x in has_parent_relation])\n",
    "daughters = set(woman_list) & set([x[0] for x in has_child_relation])\n",
    "sons = set(man_list) & set([x[0] for x in has_child_relation])\n",
    "\n",
    "sisters = set(woman_list) & set([x[0] for x in has_sibling_relation])\n",
    "brothers = set(man_list) & set([x[0] for x in has_sibling_relation])\n",
    "\n",
    "grandmothers = set(woman_list) & set([x[0] for x in has_grandparent_relation])\n",
    "grandfathers = set(man_list) & set([x[0] for x in has_grandparent_relation])\n",
    "granddaughters = set(woman_list) & set([x[0] for x in has_grandchild_relation])\n",
    "grandsons = set(man_list) & set([x[0] for x in has_grandchild_relation])\n",
    "grandmothers, grandfathers, granddaughters, grandsons, sisters, brothers"
   ]
  },
  {
   "cell_type": "markdown",
   "metadata": {},
   "source": [
    "### Create functions to iterate through the lists and add the reversed relations with the right property to the ontology.\n",
    "All the added relations are also added to a dataframe."
   ]
  },
  {
   "cell_type": "code",
   "execution_count": null,
   "metadata": {},
   "outputs": [],
   "source": [
    "def create_gender_based_inferrence(subject_list, new_property, relationship, ignore_index=True):\n",
    "    global df5  \n",
    "    global new_relations_counter\n",
    "    for x in subject_list:\n",
    "        if x[0] in relationship:\n",
    "            g.add((x[1], new_property, x[0]))\n",
    "            new_relations_counter +=1\n",
    "            data = [[ relation(x[1]), relation(new_property), relation(x[0])]]\n",
    "            df3 = pd.DataFrame(data, columns = ['Subject', 'Property', \"Object\"])\n",
    "            df5 = df5.append(df3)"
   ]
  },
  {
   "cell_type": "code",
   "execution_count": null,
   "metadata": {},
   "outputs": [],
   "source": [
    "create_gender_based_inferrence(has_parent_relation, mother_property, mothers)\n",
    "create_gender_based_inferrence(has_parent_relation, father_property, fathers)\n",
    "create_gender_based_inferrence(has_child_relation, daughter_property, daughters)\n",
    "create_gender_based_inferrence(has_child_relation, son_property, sons)\n",
    "create_gender_based_inferrence(has_grandparent_relation, grandmother_property, grandmothers)\n",
    "create_gender_based_inferrence(has_grandparent_relation, grandfather_property, grandfathers)\n",
    "create_gender_based_inferrence(has_grandchild_relation, granddaughter_property, granddaughters)\n",
    "create_gender_based_inferrence(has_grandchild_relation, grandson_property, grandsons)\n",
    "create_gender_based_inferrence(has_sibling_relation, sister_property, sisters)\n",
    "create_gender_based_inferrence(has_sibling_relation, brother_property, brothers)"
   ]
  },
  {
   "cell_type": "markdown",
   "metadata": {},
   "source": [
    "### Print a dataframe with all the inferred relations. \n",
    "These relations are all gender based, so father instead of parent ect."
   ]
  },
  {
   "cell_type": "code",
   "execution_count": null,
   "metadata": {},
   "outputs": [],
   "source": [
    "df5 = df5.sort_values(by=['Property'])\n",
    "df5.reset_index(drop=True)"
   ]
  },
  {
   "cell_type": "code",
   "execution_count": null,
   "metadata": {},
   "outputs": [],
   "source": [
    "print (g.serialize(format='turtle').decode(\"utf-8\")) "
   ]
  },
  {
   "cell_type": "markdown",
   "metadata": {},
   "source": [
    "### Add another round of gender assigning, because there may be some individuals that can now be assigned a gender."
   ]
  },
  {
   "cell_type": "code",
   "execution_count": null,
   "metadata": {},
   "outputs": [],
   "source": [
    "for s,p,o in g:\n",
    "# PARENT RELATIONS\n",
    "    if shorten(p) == \"kinship1:has_Father\":\n",
    "        df = df.append({'Relation': \"Father\", 'Subject': relation(o), 'Property': relation(RDFS.domain),\"Object\":relation(KIN.man) }, ignore_index=True)\n",
    "        g.add((o, RDFS.domain, KIN.man))\n",
    "        new_relations_counter +=1\n",
    "    if shorten(p) == \"kinship1:has_Mother\":\n",
    "        df = df.append({'Relation': \"Mother\", 'Subject': relation(o), 'Property': relation(RDFS.domain),\"Object\":relation(KIN.woman) }, ignore_index=True)\n",
    "        g.add((o, RDFS.domain, KIN.woman))\n",
    "        new_relations_counter +=1\n",
    "        \n",
    "# GRANDPARENT RELATIONS\n",
    "    if shorten(p) == \"kinship1:has_Grandfather\":\n",
    "        df = df.append({'Relation': \"Grandfather\", 'Subject': relation(o), 'Property': relation(RDFS.domain),\"Object\":relation(KIN.man) }, ignore_index=True)\n",
    "        g.add((o, RDFS.domain, KIN.man))\n",
    "        new_relations_counter +=1\n",
    "    if shorten(p) == \"kinship1:has_Grandmother\":\n",
    "        df = df.append({'Relation': \"Grandmother\", 'Subject': relation(o), 'Property': relation(RDFS.domain),\"Object\":relation(KIN.woman) }, ignore_index=True)\n",
    "        g.add((o, RDFS.domain, KIN.woman))\n",
    "        new_relations_counter +=1\n",
    "        \n",
    "# CHILD RELATIONS       \n",
    "    if shorten(p) == \"kinship1:has_Son\":\n",
    "        df = df.append({'Relation': \"Son\", 'Subject': relation(o), 'Property': relation(RDFS.domain),\"Object\":relation(KIN.man) }, ignore_index=True)\n",
    "        g.add((o, RDFS.domain, KIN.man))\n",
    "        new_relations_counter +=1\n",
    "    if shorten(p) == \"kinship1:has_Dauther\":\n",
    "        df = df.append({'Relation': \"Daughter\", 'Subject': relation(o), 'Property': relation(RDFS.domain),\"Object\":relation(KIN.woman) }, ignore_index=True)\n",
    "        g.add((o, RDFS.domain, KIN.woman))\n",
    "        new_relations_counter +=1\n",
    "\n",
    "# GRANDCHILD RELATIONS        \n",
    "    if shorten(p) == \"kinship1:has_Grandson\":\n",
    "        df = df.append({'Relation': \"Grandson\", 'Subject': relation(o), 'Property': relation(RDFS.domain),\"Object\":relation(KIN.man) }, ignore_index=True)\n",
    "        g.add((o, RDFS.domain, KIN.man))\n",
    "        new_relations_counter +=1\n",
    "    if shorten(p) == \"kinship1:has_Granddaughter\":\n",
    "        df = df.append({'Relation': \"Granddaughter\", 'Subject': relation(o), 'Property': relation(RDFS.domain),\"Object\":relation(KIN.woman) }, ignore_index=True)\n",
    "        g.add((o, RDFS.domain, KIN.woman))\n",
    "        new_relations_counter +=1\n",
    "\n",
    "# SIBLING RELATIONS\n",
    "    if shorten(p) == \"kinship1:has_Brother\":\n",
    "        df = df.append({'Relation': \"Brother\", 'Subject': relation(o), 'Property': relation(RDFS.domain),\"Object\":relation(KIN.man) }, ignore_index=True)\n",
    "        g.add((o, RDFS.domain, KIN.man))\n",
    "        new_relations_counter +=1\n",
    "    if shorten(p) == \"kinship1:has_Sister\":\n",
    "        df = df.append({'Relation': \"Sister\", 'Subject': relation(o), 'Property': relation(RDFS.domain),\"Object\":relation(KIN.woman) }, ignore_index=True)\n",
    "        g.add((o, RDFS.domain, KIN.woman))\n",
    "        new_relations_counter +=1\n",
    "#RELATIONSHIPS \n",
    "    if shorten(p) == \"kinship1:has_Husband\":\n",
    "        g.add((o, RDFS.domain, KIN.man))\n",
    "        new_relations_counter +=1\n",
    "        df = df.append({'Relation': \"Husband\", 'Subject': relation(o), 'Property': relation(RDFS.domain),\"Object\":relation(KIN.man) }, ignore_index=True)\n",
    "    if shorten(p) == \"kinship1:has_Wife\":\n",
    "        g.add((o, RDFS.domain, KIN.woman))\n",
    "        new_relations_counter +=1\n",
    "        df = df.append({'Relation': \"Wife\", 'Subject': relation(o), 'Property': relation(RDFS.domain),\"Object\":relation(KIN.woman) }, ignore_index=True)\n",
    "    if shorten(p) == \"kinship1:has_Ex_husband\":\n",
    "        g.add((o, RDFS.domain, KIN.man)) \n",
    "        new_relations_counter +=1\n",
    "        df = df.append({'Relation': \"Ex_Husband\", 'Subject': relation(o), 'Property': relation(RDFS.domain),\"Object\":relation(KIN.man) }, ignore_index=True)\n",
    "    if shorten(p) == \"kinship1:has_Ex_wife\":\n",
    "        g.add((o, RDFS.domain, KIN.woman))\n",
    "        new_relations_counter +=1\n",
    "        df = df.append({'Relation': \"Ex_Wife\", 'Subject': relation(o), 'Property': relation(RDFS.domain),\"Object\":relation(KIN.woman) }, ignore_index=True)"
   ]
  },
  {
   "cell_type": "code",
   "execution_count": null,
   "metadata": {},
   "outputs": [],
   "source": [
    "df = df.sort_values(by=['Subject'])\n",
    "df = df.drop_duplicates()\n",
    "df = df.drop(['Property', 'Object'], axis=1)\n",
    "columns_titles = [\"Subject\",\"Relation\"]\n",
    "df = df.reindex(columns=columns_titles)\n",
    "print(\"\\n\",\"A dataframe of all the individuals with the relations in which they participate.\")\n",
    "df.reset_index(drop=True)"
   ]
  },
  {
   "cell_type": "markdown",
   "metadata": {},
   "source": [
    "### Add sibling relations"
   ]
  },
  {
   "cell_type": "code",
   "execution_count": null,
   "metadata": {},
   "outputs": [],
   "source": [
    "sibling_infer_relation_list = []\n",
    "sibling_infer_relation_list_show = []\n",
    "name_list = []\n",
    "\n",
    "for s,p,o in g:\n",
    "    if shorten(p) == \"kinship1:has_Sibling\" or relation(p) == \"has_Sister\" or relation(p) == \"has_Brother\"  or relation(p) == \"has_twin\":\n",
    "#         print(relation(s), relation(p), relation(o))\n",
    "        sibling_infer_relation_list_show.append((relation(s), relation(o)))\n",
    "        sibling_infer_relation_list.append((s, o))\n",
    "        name_list.append(relation(s))\n",
    "        name_list.append(relation(o))"
   ]
  },
  {
   "cell_type": "markdown",
   "metadata": {},
   "source": [
    "Show all the sibling relations that exist at the moment."
   ]
  },
  {
   "cell_type": "code",
   "execution_count": null,
   "metadata": {},
   "outputs": [],
   "source": [
    "sibling_infer_relation_list_show"
   ]
  },
  {
   "cell_type": "code",
   "execution_count": null,
   "metadata": {},
   "outputs": [],
   "source": [
    "name_data = pd.DataFrame(name_list, columns = [\"Name\"])\n",
    "final_name_list = name_data.drop_duplicates().reset_index(drop=True)\n",
    "print(\"\\n\", \"These are all the individuals that participate in a sibling relation:\")\n",
    "final_name_list"
   ]
  },
  {
   "cell_type": "markdown",
   "metadata": {},
   "source": [
    "### Put all the individuals that are siblings of each other in a set together and put those sets in a list. "
   ]
  },
  {
   "cell_type": "code",
   "execution_count": null,
   "metadata": {},
   "outputs": [],
   "source": [
    "def make_word_classes(synom):\n",
    "    # List of classes\n",
    "    word_classes = []\n",
    "    for w1, w2 in synom:\n",
    "        # Go through existing classes\n",
    "        for wcls in word_classes:\n",
    "            # If one of the words is already in the current class\n",
    "            if w1 in wcls or w2 in wcls:\n",
    "                # Add both words and continue to next pair of words\n",
    "                wcls.add(w1)\n",
    "                wcls.add(w2)\n",
    "                break\n",
    "        else:  # Note this else goes with the for loop, not the if block\n",
    "            # If there was no matching class, add a new one\n",
    "            word_classes.append({w1, w2})\n",
    "    return word_classes\n",
    "\n",
    "synom = sibling_infer_relation_list\n",
    "show = sibling_infer_relation_list_show\n",
    "word_classes = make_word_classes(synom)\n",
    "# print(word_classes)\n",
    "print(\"This is what it looks like right now:\",\"\\n\", make_word_classes(show))"
   ]
  },
  {
   "cell_type": "markdown",
   "metadata": {},
   "source": [
    "### Iterate through the list with the sets and add a sibling relation between all the individuals of a set except when the individuals are the same."
   ]
  },
  {
   "cell_type": "code",
   "execution_count": null,
   "metadata": {},
   "outputs": [],
   "source": [
    "vowels = word_classes\n",
    "vowels_iter = iter(word_classes)\n",
    "\n",
    "while True: \n",
    "    try: \n",
    "        for i in word_classes:                 #x en i printen hetzelfde\n",
    "            x = next(vowels_iter)\n",
    "            for p in i:                         # p is 1 persoon\n",
    "                for y in i:                 #p blijft 1 ronde dezelfde persoon en y itereerd tijdens die ronde door de personen\n",
    "                    if p == y:\n",
    "#                         print(\"same\")\n",
    "                        pass\n",
    "                    else:\n",
    "#                         print(p, sibling_property,y)\n",
    "                        g.add((p, sibling_property,y))\n",
    "                        new_relations_counter +=1\n",
    "          \n",
    "    except StopIteration: \n",
    "        # if StopIteration is raised, \n",
    "        # break from loop \n",
    "        break\n"
   ]
  },
  {
   "cell_type": "markdown",
   "metadata": {},
   "source": [
    "### Add the sibling relations to the dataframe to show all the inferences."
   ]
  },
  {
   "cell_type": "code",
   "execution_count": null,
   "metadata": {},
   "outputs": [],
   "source": [
    "woman_list = []\n",
    "man_list = []\n",
    "has_sibling_relation = []\n",
    "has_twin_relation=[]\n",
    "\n",
    "for s,p,o in g:\n",
    "    if shorten(o) ==  \"kinship1:woman\":\n",
    "        woman_list.append(s)\n",
    "    if shorten(o) ==  \"kinship1:man\":\n",
    "        man_list.append(s)\n",
    "    if shorten(p) == \"kinship1:has_Sibling\":\n",
    "        has_sibling_relation.append((o,s))\n",
    "    if shorten(p) == \"kinship1:has_twin\":\n",
    "        has_twin_relation.append((s,o))\n",
    "sisters = set(woman_list) & set([x[0] for x in has_sibling_relation])\n",
    "brothers = set(man_list) & set([x[0] for x in has_sibling_relation])\n",
    "twin_sisters = set(woman_list) & set([x[0] for x in has_twin_relation])\n",
    "twin_brothers = set(man_list) & set([x[0] for x in has_twin_relation])\n",
    "\n",
    "\n",
    "# print(brothers,\"\\n\", sisters, \"\\n\",twin_brothers,\"\\n\",twin_sisters)\n",
    "\n",
    "create_gender_based_inferrence(has_sibling_relation, sister_property, sisters)\n",
    "create_gender_based_inferrence(has_sibling_relation, brother_property, brothers)\n",
    "create_gender_based_inferrence(has_twin_relation, twin_property, twin_brothers)\n",
    "create_gender_based_inferrence(has_twin_relation, twin_property, twin_sisters)"
   ]
  },
  {
   "cell_type": "code",
   "execution_count": null,
   "metadata": {},
   "outputs": [],
   "source": [
    "df5 = df5.drop_duplicates().sort_values(by=['Property'])\n",
    "df5.reset_index(drop=True)"
   ]
  },
  {
   "cell_type": "markdown",
   "metadata": {},
   "source": [
    "# Show final ontology"
   ]
  },
  {
   "cell_type": "code",
   "execution_count": 11,
   "metadata": {},
   "outputs": [
    {
     "name": "stdout",
     "output_type": "stream",
     "text": [
      "@prefix kinship1: <http://www.semanticweb.org/combots#> .\n",
      "@prefix owl: <http://www.w3.org/2002/07/owl#> .\n",
      "@prefix rdfs: <http://www.w3.org/2000/01/rdf-schema#> .\n",
      "\n",
      "kinship1:Mrs._Bing kinship1:has_Son kinship1:Chandler .\n",
      "\n",
      "kinship1:Rachel kinship1:has_Sister kinship1:Jill .\n",
      "\n",
      "kinship1:Ben rdfs:domain kinship1:man .\n",
      "\n",
      "kinship1:Chandler rdfs:domain kinship1:man .\n",
      "\n",
      "kinship1:Dina kinship1:has_Brother kinship1:Joey ;\n",
      "    rdfs:domain kinship1:woman .\n",
      "\n",
      "kinship1:Frank kinship1:has_Sister kinship1:Phoebe ;\n",
      "    rdfs:domain kinship1:man .\n",
      "\n",
      "kinship1:Jill rdfs:domain kinship1:woman .\n",
      "\n",
      "kinship1:Joey kinship1:has_Sister kinship1:Dina,\n",
      "        kinship1:Tina ;\n",
      "    rdfs:domain kinship1:man .\n",
      "\n",
      "kinship1:Monica kinship1:has_Brother kinship1:Ross ;\n",
      "    rdfs:domain kinship1:woman .\n",
      "\n",
      "kinship1:Mr._Geller rdfs:domain kinship1:man .\n",
      "\n",
      "kinship1:Ross kinship1:has_Father kinship1:Mr._Geller ;\n",
      "    kinship1:has_Sister kinship1:Monica ;\n",
      "    kinship1:has_Son kinship1:Ben ;\n",
      "    rdfs:domain kinship1:man .\n",
      "\n",
      "kinship1:Tina rdfs:domain kinship1:woman .\n",
      "\n",
      "kinship1:Ursula kinship1:has_Sister kinship1:Phoebe ;\n",
      "    rdfs:domain kinship1:woman .\n",
      "\n",
      "kinship1:Phoebe kinship1:has_Brother kinship1:Frank ;\n",
      "    kinship1:has_Sister kinship1:Ursula ;\n",
      "    rdfs:domain kinship1:woman .\n",
      "\n",
      "[] a owl:Ontology .\n",
      "\n",
      "\n"
     ]
    }
   ],
   "source": [
    "serialize()"
   ]
  },
  {
   "cell_type": "code",
   "execution_count": 12,
   "metadata": {},
   "outputs": [],
   "source": [
    "save(\"new_correctdata1_ontology.ttl\")"
   ]
  },
  {
   "cell_type": "markdown",
   "metadata": {},
   "source": [
    "# Show the result of the counter of the newly added relations to the ontology\n"
   ]
  },
  {
   "cell_type": "code",
   "execution_count": 13,
   "metadata": {},
   "outputs": [
    {
     "data": {
      "text/plain": [
       "13"
      ]
     },
     "execution_count": 13,
     "metadata": {},
     "output_type": "execute_result"
    }
   ],
   "source": [
    "new_relations_counter"
   ]
  }
 ],
 "metadata": {
  "kernelspec": {
   "display_name": "Python 3",
   "language": "python",
   "name": "python3"
  },
  "language_info": {
   "codemirror_mode": {
    "name": "ipython",
    "version": 3
   },
   "file_extension": ".py",
   "mimetype": "text/x-python",
   "name": "python",
   "nbconvert_exporter": "python",
   "pygments_lexer": "ipython3",
   "version": "3.7.6"
  }
 },
 "nbformat": 4,
 "nbformat_minor": 4
}
