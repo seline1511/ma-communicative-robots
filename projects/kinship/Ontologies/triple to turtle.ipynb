{
 "cells": [
  {
   "cell_type": "code",
   "execution_count": null,
   "metadata": {},
   "outputs": [],
   "source": [
    "from rdflib import Graph, RDF, RDFS, Namespace, Literal, URIRef "
   ]
  },
  {
   "cell_type": "markdown",
   "metadata": {},
   "source": [
    "G is the graph to which you add the triples. This graph will be transformed into a turtle file later. \n",
    "KIN is the shortened version of the namespace. And g.bind makes sure that \"kinship1\" is actually used in the ontology."
   ]
  },
  {
   "cell_type": "code",
   "execution_count": null,
   "metadata": {},
   "outputs": [],
   "source": [
    "g = Graph()\n",
    "\n",
    "# KIN = Namespace('http://www.semanticweb.org/selin/ontologies/2020/10/kinship1#')\n",
    "KIN = Namespace('http://www.semanticweb.org/combots#')\n",
    "\n",
    "g.bind('kinship1',KIN)"
   ]
  },
  {
   "cell_type": "markdown",
   "metadata": {},
   "source": [
    "Here are some necessary functions:\n",
    "* serialize shows the graph in a readable format.\n",
    "* load is used to import the ontology.\n",
    "* save is used to save the ontology.\n",
    "    "
   ]
  },
  {
   "cell_type": "code",
   "execution_count": null,
   "metadata": {},
   "outputs": [],
   "source": [
    "def serialize():\n",
    "    print(g.serialize(format='turtle').decode(\"utf-8\"))\n",
    "\n",
    "        \n",
    "def load(filename):\n",
    "    with open(filename, 'r') as f:\n",
    "        g.load(f, format='turtle') \n",
    "    \n",
    "def save(filename):\n",
    "    with open(filename, 'wb') as f:\n",
    "        g.serialize(f, format='turtle') "
   ]
  },
  {
   "cell_type": "markdown",
   "metadata": {},
   "source": [
    "I created an empty ontology that is imported here. (When you add anything to g after this and then run this code block again, it will remember all the added relations.)"
   ]
  },
  {
   "cell_type": "code",
   "execution_count": null,
   "metadata": {},
   "outputs": [],
   "source": [
    "load('Ontologies/empty_ontology.ttl')\n",
    "serialize()"
   ]
  },
  {
   "cell_type": "markdown",
   "metadata": {},
   "source": [
    "This is how you add triples to the graph. "
   ]
  },
  {
   "cell_type": "code",
   "execution_count": null,
   "metadata": {},
   "outputs": [],
   "source": [
    "g.add((KIN.Monica, KIN.has_Brother, KIN.Ross))\n",
    "g.add((KIN.Ross, KIN.has_Sister, KIN.Monica))\n",
    "g.add((KIN.Ross, KIN.has_Father, KIN.Jack))\n",
    "g.add((KIN.Ross, RDFS.domain, KIN.man))"
   ]
  },
  {
   "cell_type": "markdown",
   "metadata": {},
   "source": [
    "Then you can use serialize() to see if all the relations are actually added. So for the example, Monica has a brother named Ross. And Ross has a sister Monica, a father Jack and he is a man."
   ]
  },
  {
   "cell_type": "code",
   "execution_count": null,
   "metadata": {},
   "outputs": [],
   "source": [
    "serialize()"
   ]
  },
  {
   "cell_type": "markdown",
   "metadata": {},
   "source": [
    "Here you can save your graph to the turle file."
   ]
  },
  {
   "cell_type": "code",
   "execution_count": null,
   "metadata": {},
   "outputs": [],
   "source": [
    "save('empty_ontology.ttl')"
   ]
  },
  {
   "cell_type": "markdown",
   "metadata": {},
   "source": [
    "After running this code the ontology will not be empty anymore. So you can clear everything by using remove() "
   ]
  },
  {
   "cell_type": "code",
   "execution_count": null,
   "metadata": {},
   "outputs": [],
   "source": [
    "g.remove((KIN.Monica, KIN.has_Brother, KIN.Ross))\n",
    "g.remove((KIN.Ross, KIN.has_Sister, KIN.Monica))\n",
    "g.remove((KIN.Ross, KIN.has_Father, KIN.Jack))\n",
    "g.remove((KIN.Ross, RDFS.domain, KIN.man))\n",
    "serialize()"
   ]
  },
  {
   "cell_type": "markdown",
   "metadata": {},
   "source": [
    "And then you have to save again ofcourse"
   ]
  },
  {
   "cell_type": "code",
   "execution_count": null,
   "metadata": {},
   "outputs": [],
   "source": [
    "save('empty_ontology.ttl')"
   ]
  },
  {
   "cell_type": "markdown",
   "metadata": {},
   "source": [
    "# Your implementation here"
   ]
  },
  {
   "cell_type": "markdown",
   "metadata": {},
   "source": [
    "## Importing our triples"
   ]
  },
  {
   "cell_type": "code",
   "execution_count": 1,
   "metadata": {},
   "outputs": [],
   "source": [
    "import pickle\n",
    "with open(\"./gold_relations.pkl\", \"rb\") as infile:\n",
    "    gold_relations = pickle.load(infile)\n",
    "with open(\"./data/predictions_combined_rules.pkl\", \"rb\") as infile:\n",
    "    predicted_relations = pickle.load(infile)"
   ]
  },
  {
   "cell_type": "markdown",
   "metadata": {},
   "source": [
    "## Converting strings to match ontology/reasoner format"
   ]
  },
  {
   "cell_type": "code",
   "execution_count": null,
   "metadata": {},
   "outputs": [],
   "source": [
    "def convert_relation(string):\n",
    "    '''\n",
    "    Takes a string representing a relation as output by the kinship detecting system\n",
    "    and converts it to the string required by the reasoner.\n",
    "    '''\n",
    "    relation_name = string.split(\"-\")[1]\n",
    "    \n",
    "    if relation_name == \"daughter\":\n",
    "        new_relation = \"Dauter\"\n",
    "    elif relation_name == \"parent\":\n",
    "        new_relation = \"parent\"\n",
    "    elif relation_name == \"twin\":\n",
    "        new_relation = \"twin\"\n",
    "    else:\n",
    "        new_relation = relation_name.capitalize()\n",
    "    \n",
    "    return \"has_\"+new_relation\n",
    "    "
   ]
  },
  {
   "cell_type": "code",
   "execution_count": null,
   "metadata": {},
   "outputs": [],
   "source": [
    "def convert_name(string):\n",
    "    '''\n",
    "    takes a string of a character name as output by the kinship detecting system\n",
    "    and converts it to a string usable by the ontology and reasoner (no spaces)\n",
    "    '''\n",
    "    name_split = string.split(\" \")\n",
    "    new_name = \"_\".join(name_split)\n",
    "    return new_name"
   ]
  },
  {
   "cell_type": "markdown",
   "metadata": {},
   "source": [
    "## Writing raw output file\n",
    "The ontology created here includes all of the raw output from the kinship detection script"
   ]
  },
  {
   "cell_type": "code",
   "execution_count": null,
   "metadata": {},
   "outputs": [],
   "source": [
    "# convert predicted_relations to the new format\n",
    "list_of_triples = []\n",
    "for triple in predicted_relations:\n",
    "    new_triple = [convert_name(triple[0]), convert_relation(triple[1]), convert_name(triple[2])]\n",
    "    list_of_triples.append(new_triple)"
   ]
  },
  {
   "cell_type": "code",
   "execution_count": null,
   "metadata": {},
   "outputs": [],
   "source": [
    "# populate ontology with list_of_triples\n",
    "for triple in list_of_triples:\n",
    "    base = 'http://www.semanticweb.org/combots#'\n",
    "    new_triple = tuple(URIRef(base+i) for i in triple)\n",
    "    g.add(new_triple)"
   ]
  },
  {
   "cell_type": "code",
   "execution_count": null,
   "metadata": {},
   "outputs": [],
   "source": [
    "serialize()"
   ]
  },
  {
   "cell_type": "code",
   "execution_count": null,
   "metadata": {},
   "outputs": [],
   "source": [
    "save('./Ontologies/raw_output_ontology.ttl')"
   ]
  },
  {
   "cell_type": "markdown",
   "metadata": {},
   "source": [
    "## Writing correct output file\n",
    "The ontology created here includes only those relations from our output that also exist in the gold relations"
   ]
  },
  {
   "cell_type": "code",
   "execution_count": null,
   "metadata": {},
   "outputs": [],
   "source": [
    "list_of_triples = []\n",
    "for triple in predicted_relations:\n",
    "    if triple in gold_relations:\n",
    "        new_triple = [convert_name(triple[0]), convert_relation(triple[1]), convert_name(triple[2])]\n",
    "        list_of_triples.append(new_triple)\n",
    "list_of_triples"
   ]
  },
  {
   "cell_type": "code",
   "execution_count": null,
   "metadata": {},
   "outputs": [],
   "source": [
    "# populate ontology with list_of_triples\n",
    "for triple in list_of_triples:\n",
    "    base = 'http://www.semanticweb.org/combots#'\n",
    "    new_triple = tuple(URIRef(base+i) for i in triple)\n",
    "    g.add(new_triple)"
   ]
  },
  {
   "cell_type": "code",
   "execution_count": null,
   "metadata": {},
   "outputs": [],
   "source": [
    "save('./Ontologies/correct_output_ontology.ttl')"
   ]
  },
  {
   "cell_type": "markdown",
   "metadata": {},
   "source": [
    "### Some things to keep in mind while creating the turtle file"
   ]
  },
  {
   "cell_type": "markdown",
   "metadata": {},
   "source": [
    "Below are the properties that I use, so please use the same, because otherwise the reasoner does not work. The properties are defined in the URI after the #. So for the first one \"child_property\" the relation that you should use is \"has_Child\".\n",
    "\n",
    "child_property http://www.semanticweb.org/selin/ontologies/2020/10/kinship1#has_Child\n",
    "\n",
    "parent_property http://www.semanticweb.org/selin/ontologies/2020/10/kinship1#has_parent\n",
    "\n",
    "grandchild_property http://www.semanticweb.org/selin/ontologies/2020/10/kinship1#has_Grandchild\n",
    "\n",
    "grandparent_property http://www.semanticweb.org/selin/ontologies/2020/10/kinship1#has_Grandparent\n",
    "\n",
    "husband_property http://www.semanticweb.org/selin/ontologies/2020/10/kinship1#has_Husband\n",
    "\n",
    "wife_property http://www.semanticweb.org/selin/ontologies/2020/10/kinship1#has_Wife\n",
    "\n",
    "ex_husband_property http://www.semanticweb.org/selin/ontologies/2020/10/kinship1#has_Ex_husband\n",
    "\n",
    "ex_wife_property http://www.semanticweb.org/selin/ontologies/2020/10/kinship1#has_Ex_wife\n",
    "\n",
    "cousin_property http://www.semanticweb.org/selin/ontologies/2020/10/kinship1#has_Cousin\n",
    "\n",
    "partner_property http://www.semanticweb.org/selin/ontologies/2020/10/kinship1#has_Partner\n",
    "\n",
    "father_property http://www.semanticweb.org/selin/ontologies/2020/10/kinship1#has_Father\n",
    "\n",
    "mother_property http://www.semanticweb.org/selin/ontologies/2020/10/kinship1#has_Mother\n",
    "\n",
    "son_property http://www.semanticweb.org/selin/ontologies/2020/10/kinship1#has_Son\n",
    "\n",
    "daugther_property http://www.semanticweb.org/selin/ontologies/2020/10/kinship1#has_Dauther\n",
    "\n",
    "grandson_property http://www.semanticweb.org/selin/ontologies/2020/10/kinship1#has_Grandson\n",
    "\n",
    "granddaugther_property http://www.semanticweb.org/selin/ontologies/2020/10/kinship1#has_Granddaughter\n",
    "\n",
    "grandfather_property http://www.semanticweb.org/selin/ontologies/2020/10/kinship1#has_Grandfather\n",
    "\n",
    "grandmother_property http://www.semanticweb.org/selin/ontologies/2020/10/kinship1#has_Grandmother\n",
    "\n",
    "brother_property http://www.semanticweb.org/selin/ontologies/2020/10/kinship1#has_Brother\n",
    "\n",
    "sister_property http://www.semanticweb.org/selin/ontologies/2020/10/kinship1#has_Sister\n",
    "\n",
    "twin_property http://www.semanticweb.org/selin/ontologies/2020/10/kinship1#has_twin\n",
    "\n",
    "sibling_property http://www.semanticweb.org/selin/ontologies/2020/10/kinship1#has_Sibling"
   ]
  },
  {
   "cell_type": "markdown",
   "metadata": {},
   "source": [
    "I know you are not adding any gender right know. But for the reasoner to work more efficiently it would be nice to manually add some genders. Because that ensures more inference(exept if you have a lot of relations that depend on gender(like brother), because then the reasoner should be able to add genders itself. "
   ]
  },
  {
   "cell_type": "code",
   "execution_count": null,
   "metadata": {},
   "outputs": [],
   "source": []
  }
 ],
 "metadata": {
  "kernelspec": {
   "display_name": "Python 3",
   "language": "python",
   "name": "python3"
  },
  "language_info": {
   "codemirror_mode": {
    "name": "ipython",
    "version": 3
   },
   "file_extension": ".py",
   "mimetype": "text/x-python",
   "name": "python",
   "nbconvert_exporter": "python",
   "pygments_lexer": "ipython3",
   "version": "3.7.3"
  }
 },
 "nbformat": 4,
 "nbformat_minor": 4
}
